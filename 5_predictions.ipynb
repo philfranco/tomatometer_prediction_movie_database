{
 "cells": [
  {
   "cell_type": "code",
   "execution_count": 6,
   "id": "35590cd5",
   "metadata": {},
   "outputs": [
    {
     "name": "stdout",
     "output_type": "stream",
     "text": [
      "Index(['REVENUE', 'POPULARITY', 'RUNTIME', 'VOTE_AVERAGE', 'VOTE_COUNT',\n",
      "       'yt_likes', 'yt_views', 'time_trailerToMovie_Days', 'Rating',\n",
      "       'Tomatometer', 'Weighted_Score', 'Audience_Score', 'Awards',\n",
      "       'Nominations'],\n",
      "      dtype='object')\n",
      "(498, 14)\n"
     ]
    }
   ],
   "source": [
    "import pandas as pd\n",
    "import numpy as np\n",
    "\n",
    "from sklearn.linear_model import LinearRegression, BayesianRidge, ElasticNet\n",
    "from sklearn.kernel_ridge import KernelRidge\n",
    "from sklearn.ensemble import GradientBoostingRegressor\n",
    "from sklearn.svm import SVR\n",
    "\n",
    "from sklearn.model_selection import train_test_split\n",
    "from sklearn.metrics import mean_squared_error, mean_absolute_error\n",
    "\n",
    "\n",
    "allModels = [LinearRegression(),\n",
    "            KernelRidge(),\n",
    "            ElasticNet(max_iter=2000),\n",
    "            BayesianRidge(),\n",
    "            GradientBoostingRegressor(),\n",
    "            SVR()]\n",
    "\n",
    "modelNames = ['Linear Regression',\n",
    "              'Kernel Ridge',\n",
    "              'Elastic Net',\n",
    "              'Bayesian Ridge',\n",
    "              'Gradient Boosting Regressor',\n",
    "              'SVR']\n",
    "\n",
    "# comment out to test different .csvs\n",
    "df = pd.read_csv(\"csvs\\\\comb_money_cap.csv\")\n",
    "#df = pd.read_csv(\"csvs\\\\FinalDataSet_filtered.csv\")\n",
    "\n",
    "# -----------------------------------------------------------------\n",
    "# was testing with income column\n",
    "# income = df['REVENUE']-df['BUDGET']\n",
    "# df['income']=income\n",
    "#df = df.drop(columns=['MOVIE_ID', 'MOVIE_TITLE', 'RELEASE_YEAR', 'RELEASE_DATE', 'yt_releaseYear',\n",
    "#                      'yt_releaseDate','REVENUE','BUDGET'])\n",
    "# -----------------------------------------------------------------\n",
    "\n",
    "df = df.drop(columns=['MOVIE_ID', 'MOVIE_TITLE', 'RELEASE_YEAR', 'RELEASE_DATE', 'yt_releaseYear',\n",
    "                      'yt_releaseDate', 'BUDGET'])\n",
    "\n",
    "print(df.columns)\n",
    "print(df.shape)"
   ]
  },
  {
   "cell_type": "code",
   "execution_count": 7,
   "id": "019e1466",
   "metadata": {},
   "outputs": [
    {
     "name": "stdout",
     "output_type": "stream",
     "text": [
      "Linear Regression\n",
      "mean_squared_error :  0.20724547879502314\n",
      "mean_absolute_error :  0.38424933207353895\n",
      "truth: 40.0\n",
      "predict: 40.47656827613642\n",
      "\n",
      "Kernel Ridge\n",
      "mean_squared_error :  0.2004268136616641\n",
      "mean_absolute_error :  0.3755176289876302\n",
      "truth: 40.0\n",
      "predict: 40.373046875\n",
      "\n",
      "Elastic Net\n",
      "mean_squared_error :  0.20746578876355432\n",
      "mean_absolute_error :  0.3783084671506425\n",
      "truth: 40.0\n",
      "predict: 40.359720043452896\n",
      "\n",
      "Bayesian Ridge\n",
      "mean_squared_error :  0.20524503760003848\n",
      "mean_absolute_error :  0.3822712137561518\n",
      "truth: 40.0\n",
      "predict: 40.475937795898574\n",
      "\n",
      "Gradient Boosting Regressor\n",
      "mean_squared_error :  3.899436572911609\n",
      "mean_absolute_error :  1.5426851521773228\n",
      "truth: 40.0\n",
      "predict: 37.72100750163513\n",
      "\n",
      "SVR\n",
      "mean_squared_error :  714.548855740706\n",
      "mean_absolute_error :  22.762669869316795\n",
      "truth: 40.0\n",
      "predict: 48.56068266908193\n",
      "\n"
     ]
    },
    {
     "name": "stderr",
     "output_type": "stream",
     "text": [
      "c:\\Users\\PC\\code\\miniconda3\\envs\\movies\\Lib\\site-packages\\sklearn\\linear_model\\_ridge.py:255: UserWarning: Singular matrix in solving dual problem. Using least-squares solution instead.\n",
      "  warnings.warn(\n"
     ]
    }
   ],
   "source": [
    "# predict Tomatometer\n",
    "X = df.drop('Tomatometer',axis= 1)\n",
    "y = df['Tomatometer']\n",
    "\n",
    "X_train, X_test, Y_train, Y_test = train_test_split(X,y,test_size=0.3, random_state=5)\n",
    "\n",
    "for idx, model in enumerate(allModels):\n",
    "    print(modelNames[idx])\n",
    "    model.fit(X_train,Y_train)\n",
    "    predictions_train = model.predict(X_train)\n",
    "    predictions = model.predict(X_test)\n",
    "\n",
    "    #print('predictions_train')\n",
    "    #print('mean_squared_error : ', mean_squared_error(Y_train, predictions_train))\n",
    "    #print('mean_absolute_error : ', mean_absolute_error(Y_train, predictions_train))\n",
    "\n",
    "    print('mean_squared_error : ', mean_squared_error(Y_test, predictions))\n",
    "    print('mean_absolute_error : ', mean_absolute_error(Y_test, predictions))\n",
    "\n",
    "    testingRow = df.loc[[0]]\n",
    "    print('truth: ' + str(testingRow['Tomatometer'][0]))\n",
    "\n",
    "    testing = model.predict(testingRow.drop('Tomatometer',axis= 1))\n",
    "    print('predict: ' + str(testing[0]))\n",
    "    print()"
   ]
  },
  {
   "cell_type": "code",
   "execution_count": 8,
   "id": "1ed69cb6",
   "metadata": {},
   "outputs": [
    {
     "name": "stdout",
     "output_type": "stream",
     "text": [
      "Linear Regression\n",
      "mean_squared_error :  769579030776895.2\n",
      "mean_absolute_error :  23780854.644787285\n",
      "truth: 22942221.0\n",
      "predict: 39774861.21494548\n",
      "\n",
      "Kernel Ridge\n",
      "mean_squared_error :  1751767162552712.0\n",
      "mean_absolute_error :  27602029.773333333\n",
      "truth: 22942221.0\n",
      "predict: 31129600.0\n",
      "\n",
      "Elastic Net\n",
      "mean_squared_error :  768732244090983.2\n",
      "mean_absolute_error :  23936904.95937339\n",
      "truth: 22942221.0\n",
      "predict: 35324816.52439865\n",
      "\n",
      "Bayesian Ridge\n",
      "mean_squared_error :  852822443912931.6\n",
      "mean_absolute_error :  25531365.938452963\n",
      "truth: 22942221.0\n",
      "predict: 42124083.21859123\n",
      "\n",
      "Gradient Boosting Regressor\n"
     ]
    },
    {
     "name": "stderr",
     "output_type": "stream",
     "text": [
      "c:\\Users\\PC\\code\\miniconda3\\envs\\movies\\Lib\\site-packages\\sklearn\\linear_model\\_ridge.py:253: LinAlgWarning: Ill-conditioned matrix (rcond=9.65306e-19): result may not be accurate.\n",
      "  dual_coef = linalg.solve(K, y, assume_a=\"pos\", overwrite_a=False)\n",
      "c:\\Users\\PC\\code\\miniconda3\\envs\\movies\\Lib\\site-packages\\sklearn\\linear_model\\_coordinate_descent.py:697: ConvergenceWarning: Objective did not converge. You might want to increase the number of iterations, check the scale of the features or consider increasing regularisation. Duality gap: 1.167e+17, tolerance: 2.952e+13\n",
      "  model = cd_fast.enet_coordinate_descent(\n"
     ]
    },
    {
     "name": "stdout",
     "output_type": "stream",
     "text": [
      "mean_squared_error :  720193674315738.5\n",
      "mean_absolute_error :  22413793.515373778\n",
      "truth: 22942221.0\n",
      "predict: 9093219.124848705\n",
      "\n",
      "SVR\n",
      "mean_squared_error :  858726752029086.5\n",
      "mean_absolute_error :  25386385.109403905\n",
      "truth: 22942221.0\n",
      "predict: 41760772.70112477\n",
      "\n"
     ]
    }
   ],
   "source": [
    "# predict revenue (Didn'testingRowt work)\n",
    "X = df.drop('REVENUE',axis= 1)\n",
    "y = df['REVENUE']\n",
    "\n",
    "X_train, X_test, Y_train, Y_test = train_test_split(X,y,test_size=0.3, random_state=5)\n",
    "\n",
    "#print(X_train)\n",
    "\n",
    "#from sklearn import preprocessing\n",
    "#import numpy as np\n",
    "\n",
    "#scaler = preprocessing.StandardScaler().fit(X_train)\n",
    "#X_scaled = scaler.transform(df['REVENUE'])\n",
    "\n",
    "for idx, model in enumerate(allModels):\n",
    "    print(modelNames[idx])\n",
    "    model.fit(X_train,Y_train)\n",
    "    predictions_train = model.predict(X_train)\n",
    "    predictions = model.predict(X_test)\n",
    "\n",
    "    #print('predictions_train')\n",
    "    #print('mean_squared_error : ', mean_squared_error(Y_train, predictions_train))\n",
    "    #print('mean_absolute_error : ', mean_absolute_error(Y_train, predictions_train))\n",
    "\n",
    "    #print('predictions_test')\n",
    "    print('mean_squared_error : ', mean_squared_error(Y_test, predictions))\n",
    "    print('mean_absolute_error : ', mean_absolute_error(Y_test, predictions))\n",
    "\n",
    "    testingRow = df.loc[[0]]\n",
    "    print('truth: ' + str(testingRow['REVENUE'][0]))\n",
    "\n",
    "    testing = model.predict(testingRow.drop('REVENUE',axis= 1))\n",
    "    print('predict: ' + str(testing[0]))\n",
    "    print()"
   ]
  }
 ],
 "metadata": {
  "kernelspec": {
   "display_name": "Python 3 (ipykernel)",
   "language": "python",
   "name": "python3"
  },
  "language_info": {
   "codemirror_mode": {
    "name": "ipython",
    "version": 3
   },
   "file_extension": ".py",
   "mimetype": "text/x-python",
   "name": "python",
   "nbconvert_exporter": "python",
   "pygments_lexer": "ipython3",
   "version": "3.11.3"
  }
 },
 "nbformat": 4,
 "nbformat_minor": 5
}
